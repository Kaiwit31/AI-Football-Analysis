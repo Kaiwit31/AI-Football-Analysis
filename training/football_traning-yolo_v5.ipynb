{
 "cells": [
  {
   "cell_type": "code",
   "execution_count": null,
   "id": "5a4c0394",
   "metadata": {},
   "outputs": [],
   "source": [
    "%pip install ultralytics\n",
    "%pip install roboflow\n"
   ]
  },
  {
   "cell_type": "code",
   "execution_count": null,
   "id": "70b79679",
   "metadata": {},
   "outputs": [],
   "source": []
  },
  {
   "cell_type": "markdown",
   "id": "689c8770",
   "metadata": {},
   "source": [
    "# Get Dataset"
   ]
  },
  {
   "cell_type": "code",
   "execution_count": null,
   "id": "2ef78c5d",
   "metadata": {},
   "outputs": [],
   "source": []
  },
  {
   "cell_type": "code",
   "execution_count": 2,
   "id": "f864e1cb",
   "metadata": {},
   "outputs": [
    {
     "name": "stdout",
     "output_type": "stream",
     "text": [
      "loading Roboflow workspace...\n",
      "loading Roboflow project...\n"
     ]
    }
   ],
   "source": [
    "\n",
    "from roboflow import Roboflow\n",
    "rf = Roboflow(api_key=\"vuQP8G0cHGBXHYp0xmq2\")\n",
    "project = rf.workspace(\"roboflow-jvuqo\").project(\"football-players-detection-3zvbc\")\n",
    "version = project.version(1)\n",
    "dataset = version.download(\"yolov5\")\n",
    "                "
   ]
  },
  {
   "cell_type": "code",
   "execution_count": 3,
   "id": "be485901",
   "metadata": {},
   "outputs": [
    {
     "data": {
      "text/plain": [
       "'c:\\\\Users\\\\Kaiwit\\\\Desktop\\\\football_analysis\\\\training\\\\football-players-detection-1'"
      ]
     },
     "execution_count": 3,
     "metadata": {},
     "output_type": "execute_result"
    }
   ],
   "source": [
    "dataset.location"
   ]
  },
  {
   "cell_type": "code",
   "execution_count": 4,
   "id": "62d6aaf0",
   "metadata": {},
   "outputs": [
    {
     "data": {
      "text/plain": [
       "'football-players-detection-1/football-players-detection-1/valid'"
      ]
     },
     "execution_count": 4,
     "metadata": {},
     "output_type": "execute_result"
    }
   ],
   "source": [
    "import shutil\n",
    "\n",
    "shutil.move('football-players-detection-1/train',\n",
    "            'football-players-detection-1/football-players-detection-1/train'\n",
    "            )\n",
    "\n",
    "shutil.move('football-players-detection-1/test',\n",
    "            'football-players-detection-1/football-players-detection-1/test'\n",
    "            )\n",
    "\n",
    "shutil.move('football-players-detection-1/valid',\n",
    "            'football-players-detection-1/football-players-detection-1/valid'\n",
    "            )"
   ]
  },
  {
   "cell_type": "markdown",
   "id": "edf3914a",
   "metadata": {},
   "source": [
    "# Training\n"
   ]
  },
  {
   "cell_type": "code",
   "execution_count": 9,
   "id": "049b30d3",
   "metadata": {},
   "outputs": [
    {
     "name": "stdout",
     "output_type": "stream",
     "text": [
      "PRO TIP  Replace 'model=yolov5x.pt' with new 'model=yolov5xu.pt'.\n",
      "YOLOv5 'u' models are trained with https://github.com/ultralytics/ultralytics and feature improved performance vs standard YOLOv5 models trained with https://github.com/ultralytics/yolov5.\n",
      "\n",
      "New https://pypi.org/project/ultralytics/8.3.125 available  Update with 'pip install -U ultralytics'\n",
      "Ultralytics 8.3.123  Python-3.13.3 torch-2.7.0+cpu CPU (AMD Ryzen 7 7435HS)\n",
      "\u001b[34m\u001b[1mengine\\trainer: \u001b[0mtask=detect, mode=train, model=yolov5x.pt, data=c:\\Users\\Kaiwit\\Desktop\\football_analysis\\training\\football-players-detection-1/data.yaml, epochs=100, time=None, patience=100, batch=16, imgsz=640, save=True, save_period=-1, cache=False, device=None, workers=8, project=None, name=train2, exist_ok=False, pretrained=True, optimizer=auto, verbose=True, seed=0, deterministic=True, single_cls=False, rect=False, cos_lr=False, close_mosaic=10, resume=False, amp=True, fraction=1.0, profile=False, freeze=None, multi_scale=False, overlap_mask=True, mask_ratio=4, dropout=0.0, val=True, split=val, save_json=False, conf=None, iou=0.7, max_det=300, half=False, dnn=False, plots=True, source=None, vid_stride=1, stream_buffer=False, visualize=False, augment=False, agnostic_nms=False, classes=None, retina_masks=False, embed=None, show=False, save_frames=False, save_txt=False, save_conf=False, save_crop=False, show_labels=True, show_conf=True, show_boxes=True, line_width=None, format=torchscript, keras=False, optimize=False, int8=False, dynamic=False, simplify=True, opset=None, workspace=None, nms=False, lr0=0.01, lrf=0.01, momentum=0.937, weight_decay=0.0005, warmup_epochs=3.0, warmup_momentum=0.8, warmup_bias_lr=0.1, box=7.5, cls=0.5, dfl=1.5, pose=12.0, kobj=1.0, nbs=64, hsv_h=0.015, hsv_s=0.7, hsv_v=0.4, degrees=0.0, translate=0.1, scale=0.5, shear=0.0, perspective=0.0, flipud=0.0, fliplr=0.5, bgr=0.0, mosaic=1.0, mixup=0.0, cutmix=0.0, copy_paste=0.0, copy_paste_mode=flip, auto_augment=randaugment, erasing=0.4, cfg=None, tracker=botsort.yaml, save_dir=runs\\detect\\train2\n",
      "\n"
     ]
    },
    {
     "name": "stderr",
     "output_type": "stream",
     "text": [
      "Traceback (most recent call last):\n",
      "  File \u001b[35m\"C:\\Users\\Kaiwit\\AppData\\Roaming\\Python\\Python313\\site-packages\\ultralytics\\engine\\trainer.py\"\u001b[0m, line \u001b[35m581\u001b[0m, in \u001b[35mget_dataset\u001b[0m\n",
      "    data = check_det_dataset(self.args.data)\n",
      "  File \u001b[35m\"C:\\Users\\Kaiwit\\AppData\\Roaming\\Python\\Python313\\site-packages\\ultralytics\\data\\utils.py\"\u001b[0m, line \u001b[35m455\u001b[0m, in \u001b[35mcheck_det_dataset\u001b[0m\n",
      "    raise FileNotFoundError(m)\n",
      "\u001b[1;35mFileNotFoundError\u001b[0m: \u001b[35mDataset 'c://Users/Kaiwit/Desktop/football_analysis/training/football-players-detection-1/data.yaml' images not found, missing path 'C:\\Users\\Kaiwit\\Desktop\\football_analysis\\training\\football-players-detection-1\\football-players-detection-1\\valid\\images'\n",
      "Note dataset download directory is 'C:\\Users\\Kaiwit\\Desktop\\football_analysis\\datasets'. You can update this in 'C:\\Users\\Kaiwit\\AppData\\Roaming\\Ultralytics\\settings.json'\u001b[0m\n",
      "\n",
      "The above exception was the direct cause of the following exception:\n",
      "\n",
      "Traceback (most recent call last):\n",
      "  File \u001b[35m\"<frozen runpy>\"\u001b[0m, line \u001b[35m198\u001b[0m, in \u001b[35m_run_module_as_main\u001b[0m\n",
      "  File \u001b[35m\"<frozen runpy>\"\u001b[0m, line \u001b[35m88\u001b[0m, in \u001b[35m_run_code\u001b[0m\n",
      "  File \u001b[35m\"c:\\Users\\Kaiwit\\AppData\\Roaming\\Python\\Python313\\Scripts\\yolo.exe\\__main__.py\"\u001b[0m, line \u001b[35m7\u001b[0m, in \u001b[35m<module>\u001b[0m\n",
      "    sys.exit(\u001b[31mentrypoint\u001b[0m\u001b[1;31m()\u001b[0m)\n",
      "             \u001b[31m~~~~~~~~~~\u001b[0m\u001b[1;31m^^\u001b[0m\n",
      "  File \u001b[35m\"C:\\Users\\Kaiwit\\AppData\\Roaming\\Python\\Python313\\site-packages\\ultralytics\\cfg\\__init__.py\"\u001b[0m, line \u001b[35m988\u001b[0m, in \u001b[35mentrypoint\u001b[0m\n",
      "    \u001b[31mgetattr(model, mode)\u001b[0m\u001b[1;31m(**overrides)\u001b[0m  # default args from model\n",
      "    \u001b[31m~~~~~~~~~~~~~~~~~~~~\u001b[0m\u001b[1;31m^^^^^^^^^^^^^\u001b[0m\n",
      "  File \u001b[35m\"C:\\Users\\Kaiwit\\AppData\\Roaming\\Python\\Python313\\site-packages\\ultralytics\\engine\\model.py\"\u001b[0m, line \u001b[35m784\u001b[0m, in \u001b[35mtrain\u001b[0m\n",
      "    self.trainer = \u001b[31m(trainer or self._smart_load(\"trainer\"))\u001b[0m\u001b[1;31m(overrides=args, _callbacks=self.callbacks)\u001b[0m\n",
      "                   \u001b[31m~~~~~~~~~~~~~~~~~~~~~~~~~~~~~~~~~~~~~~~~\u001b[0m\u001b[1;31m^^^^^^^^^^^^^^^^^^^^^^^^^^^^^^^^^^^^^^^^^^^\u001b[0m\n",
      "  File \u001b[35m\"C:\\Users\\Kaiwit\\AppData\\Roaming\\Python\\Python313\\site-packages\\ultralytics\\engine\\trainer.py\"\u001b[0m, line \u001b[35m137\u001b[0m, in \u001b[35m__init__\u001b[0m\n",
      "    self.trainset, self.testset = \u001b[31mself.get_dataset\u001b[0m\u001b[1;31m()\u001b[0m\n",
      "                                  \u001b[31m~~~~~~~~~~~~~~~~\u001b[0m\u001b[1;31m^^\u001b[0m\n",
      "  File \u001b[35m\"C:\\Users\\Kaiwit\\AppData\\Roaming\\Python\\Python313\\site-packages\\ultralytics\\engine\\trainer.py\"\u001b[0m, line \u001b[35m585\u001b[0m, in \u001b[35mget_dataset\u001b[0m\n",
      "    raise RuntimeError(emojis(f\"Dataset '{clean_url(self.args.data)}' error ❌ {e}\")) from e\n",
      "\u001b[1;35mRuntimeError\u001b[0m: \u001b[35mDataset 'c://Users/Kaiwit/Desktop/football_analysis/training/football-players-detection-1/data.yaml' error  Dataset 'c://Users/Kaiwit/Desktop/football_analysis/training/football-players-detection-1/data.yaml' images not found, missing path 'C:\\Users\\Kaiwit\\Desktop\\football_analysis\\training\\football-players-detection-1\\football-players-detection-1\\valid\\images'\n",
      "Note dataset download directory is 'C:\\Users\\Kaiwit\\Desktop\\football_analysis\\datasets'. You can update this in 'C:\\Users\\Kaiwit\\AppData\\Roaming\\Ultralytics\\settings.json'\u001b[0m\n"
     ]
    }
   ],
   "source": [
    "!yolo task=detect mode=train model=yolov5m.pt data={dataset.location}/data.yaml epochs=100 imgsz=640"
   ]
  },
  {
   "cell_type": "code",
   "execution_count": null,
   "id": "9c2ccbc9",
   "metadata": {},
   "outputs": [],
   "source": []
  }
 ],
 "metadata": {
  "kernelspec": {
   "display_name": "Python 3",
   "language": "python",
   "name": "python3"
  },
  "language_info": {
   "codemirror_mode": {
    "name": "ipython",
    "version": 3
   },
   "file_extension": ".py",
   "mimetype": "text/x-python",
   "name": "python",
   "nbconvert_exporter": "python",
   "pygments_lexer": "ipython3",
   "version": "3.13.3"
  }
 },
 "nbformat": 4,
 "nbformat_minor": 5
}
